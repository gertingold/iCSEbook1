{
 "cells": [
  {
   "cell_type": "code",
   "execution_count": 1,
   "metadata": {},
   "outputs": [],
   "source": [
    "a = '''Maximal domain and tangent of the square root function <abitur/2013/en/sqrt>\n",
    "   Function and its codomain <abitur/2013/en/wertemenge>\n",
    "   Nonlinear equation <abitur/2013/en/gleichungssystem>\n",
    "   Function and its aniderivative <abitur/2013/en/intgraph>\n",
    "   Properties of the graph of the function<abitur/2013/en/kurvendiskussion>\n",
    "   Properties of the logarithm <abitur/2013/en/ln>\n",
    "   Properties of the  x sin(x) function <abitur/2013/en/xsinx>\n",
    "   Intersection point <abitur/2013/en/schnittpunkt>\n",
    "   Integrals of semicircle <abitur/2013/en/inthalbkreis>\n",
    "   Asymptotes <abitur/2013/en/asymp>\n",
    "   Extremum of the function <abitur/2014/en/extremum>\n",
    "   Zeros and antiderivative <abitur/2014/en/stammfunktionen>\n",
    "   Properties of  sin(ax) +c <abitur/2014/en/sinusfunktionen>\n",
    "   The construction of periodic functions <abitur/2014/en/beispielfunktionen>\n",
    "   Graphing the antiderivative <abitur/2014/en/qualitative_integrale>\n",
    "   Inflection points <abitur/2014/en/wendepunkte>\n",
    "   Optimisation problem in analytical geometry <abitur/2014/en/rechteck>\n",
    "   Properties of the square root function <abitur/2014/en/wurzelfunktion>\n",
    "   Rational function <abitur/2014/en/gebrochenrational>\n",
    "   Nonlinear equation <abitur/2015/en/nullstellen_log>\n",
    "   Properties of graphs of functions <abitur/2015/en/funktionen>\n",
    "   Properties of sin(2x) <abitur/2015/en/sinus>\n",
    "   Construction of the function given its properties<abitur/2015/en/funktionseigenschaften>\n",
    "   Determine parameter when the derivative vanishes <abitur/2015/en/funktionenschar>\n",
    "   Domain and values of the lograrithm <abitur/2016/en/logarithmus>\n",
    "   Intergral of a symmetric function <abitur/2016/en/ungerades_integral>\n",
    "   Qubic function <abitur/2016/en/kubische_funktion>\n",
    "   Properties of the function <abitur/2016/en/log_quad>\n",
    "   The construction of functions given set of properties <abitur/2016/en/beispielfunktion>\n",
    "   Graphical integration <abitur/2016/en/qualitatives_integral>\n",
    "   Blood types statistics<abitur/2013/en/blutgruppe>\n",
    "   Statistics of a medical test  <abitur/2013/en/stoffwechsel>\n",
    "   Random Game <abitur/2013/en/gewinnspiel>\n",
    "   Survey <abitur/2013/en/umfrage>\n",
    "   Null hypothesis <abitur/2013/en/nullhypothese>\n",
    "   Expected value of election process <abitur/2013/en/erwartungswert>\n",
    "   Two red and three white balls... <abitur/2014/en/urne>\n",
    "   Bernoulli process <abitur/2014/en/bernoulli>\n",
    "   Random variable and expected value <abitur/2014/en/zufallsgroesse>\n",
    "   Tree diagram <abitur/2014/en/baumdiagramm>\n",
    "   JIM - survey data analysis<abitur/2014/en/jim_studie>\n",
    "   A scrapbook<abitur/2014/en/supermarkt>\n",
    "   The wheel of fortune  <abitur/2014/en/gluecksrad>\n",
    "   Biathlon <abitur/2015/en/biathlon>\n",
    "   Talkshow  <abitur/2015/en/talkshow>\n",
    "   Tree diagrams <abitur/2016/en/baumdiagramme>\n",
    "   Tossing a coin   <abitur/2016/en/muenzwurf>\n",
    "   Seminar problem <abitur/2016/en/pseminar>\n",
    "   Pyramid<abitur/2013/en/pyramide>\n",
    "   Straight lines in 3d<abitur/2013/en/geraden>\n",
    "   Prism   <abitur/2014/en/prisma>\n",
    "   The plane  <abitur/2014/en/ebene>\n",
    "   The cuboid  <abitur/2014/en/quader>\n",
    "   The sphere  <abitur/2014/en/kugel>\n",
    "   The triangle   <abitur/2014/en/dreieck>\n",
    "   A house  <abitur/2014/en/haus>\n",
    "   Parallelogram <abitur/2015/en/parallelogramm>\n",
    "   Pyramid and vectors <abitur/2015/en/pyramide>\n",
    "   The cube  <abitur/2016/en/wuerfel>\n",
    "   Lines and points in 3d  <abitur/2016/en/geraden>\n",
    "   Planes and vectors <abitur/2016/en/ebenen> '''\n",
    "   \n"
   ]
  },
  {
   "cell_type": "code",
   "execution_count": 15,
   "metadata": {},
   "outputs": [],
   "source": [
    "import os"
   ]
  },
  {
   "cell_type": "markdown",
   "metadata": {
    "scrolled": false
   },
   "source": [
    "    for l in a.splitlines():\n",
    "        l = l.strip()\n",
    "        l = l.split(\"<\")\n",
    "        rst =  l[-1][:-1]+'.rst'\n",
    "        title = l[0].strip()\n",
    "        rst_fn = os.path.join('source',rst)\n",
    "        print (rst_fn)\n",
    "        with open( rst_fn, 'r') as source_fp:\n",
    "            newlines = [title,\"\\n\",len(title)*\"=\",\"\\n\"]\n",
    "            for i,row in enumerate(source_fp):\n",
    "                if i>=2:\n",
    "                    newlines.append(row)\n",
    "\n",
    "        with open(rst_fn,'w') as output_fp:\n",
    "            output_fp.writelines(newlines)\n"
   ]
  },
  {
   "cell_type": "code",
   "execution_count": 17,
   "metadata": {},
   "outputs": [
    {
     "data": {
      "text/plain": [
       "1"
      ]
     },
     "execution_count": 17,
     "metadata": {},
     "output_type": "execute_result"
    }
   ],
   "source": []
  },
  {
   "cell_type": "code",
   "execution_count": 22,
   "metadata": {},
   "outputs": [
    {
     "data": {
      "text/plain": [
       "'   show(p1+p2+p3+p4+p5, aspect_ratio=1) \\n'"
      ]
     },
     "execution_count": 22,
     "metadata": {},
     "output_type": "execute_result"
    }
   ],
   "source": []
  },
  {
   "cell_type": "code",
   "execution_count": null,
   "metadata": {},
   "outputs": [],
   "source": []
  },
  {
   "cell_type": "code",
   "execution_count": 23,
   "metadata": {
    "scrolled": false
   },
   "outputs": [
    {
     "name": "stdout",
     "output_type": "stream",
     "text": [
      "source/abitur/2013/en/sqrt.rst\n",
      "source/abitur/2013/en/wertemenge.rst\n",
      "source/abitur/2013/en/gleichungssystem.rst\n",
      "source/abitur/2013/en/intgraph.rst\n",
      "source/abitur/2013/en/kurvendiskussion.rst\n",
      "source/abitur/2013/en/ln.rst\n",
      "source/abitur/2013/en/xsinx.rst\n",
      "source/abitur/2013/en/schnittpunkt.rst\n",
      "source/abitur/2013/en/inthalbkreis.rst\n",
      "source/abitur/2013/en/asymp.rst\n",
      "source/abitur/2014/en/extremum.rst\n",
      "source/abitur/2014/en/stammfunktionen.rst\n",
      "source/abitur/2014/en/sinusfunktionen.rst\n",
      "source/abitur/2014/en/beispielfunktionen.rst\n",
      "source/abitur/2014/en/qualitative_integrale.rst\n",
      "source/abitur/2014/en/wendepunkte.rst\n",
      "source/abitur/2014/en/rechteck.rst\n",
      "source/abitur/2014/en/wurzelfunktion.rst\n",
      "source/abitur/2014/en/gebrochenrational.rst\n",
      "source/abitur/2015/en/nullstellen_log.rst\n",
      "source/abitur/2015/en/funktionen.rst\n",
      "source/abitur/2015/en/sinus.rst\n",
      "source/abitur/2015/en/funktionseigenschaften.rst\n",
      "source/abitur/2015/en/funktionenschar.rst\n",
      "source/abitur/2016/en/logarithmus.rst\n",
      "source/abitur/2016/en/ungerades_integral.rst\n",
      "source/abitur/2016/en/kubische_funktion.rst\n",
      "source/abitur/2016/en/log_quad.rst\n",
      "source/abitur/2016/en/beispielfunktion.rst\n",
      "source/abitur/2016/en/qualitatives_integral.rst\n",
      "source/abitur/2013/en/blutgruppe.rst\n",
      "source/abitur/2013/en/stoffwechsel.rst\n",
      "source/abitur/2013/en/gewinnspiel.rst\n",
      "source/abitur/2013/en/umfrage.rst\n",
      "source/abitur/2013/en/nullhypothese.rst\n",
      "source/abitur/2013/en/erwartungswert.rst\n",
      "source/abitur/2014/en/urne.rst\n",
      "source/abitur/2014/en/bernoulli.rst\n",
      "source/abitur/2014/en/zufallsgroesse.rst\n",
      "source/abitur/2014/en/baumdiagramm.rst\n",
      "source/abitur/2014/en/jim_studie.rst\n",
      "source/abitur/2014/en/supermarkt.rst\n",
      "source/abitur/2014/en/gluecksrad.rst\n",
      "source/abitur/2015/en/biathlon.rst\n",
      "source/abitur/2015/en/talkshow.rst\n",
      "source/abitur/2016/en/baumdiagramme.rst\n",
      "source/abitur/2016/en/muenzwurf.rst\n",
      "source/abitur/2016/en/pseminar.rst\n",
      "source/abitur/2013/en/pyramide.rst\n",
      "source/abitur/2013/en/geraden.rst\n",
      "source/abitur/2014/en/prisma.rst\n",
      "source/abitur/2014/en/ebene.rst\n",
      "source/abitur/2014/en/quader.rst\n",
      "source/abitur/2014/en/kugel.rst\n",
      "source/abitur/2014/en/dreieck.rst\n",
      "source/abitur/2014/en/haus.rst\n",
      "source/abitur/2015/en/parallelogramm.rst\n",
      "source/abitur/2015/en/pyramide.rst\n",
      "source/abitur/2016/en/wuerfel.rst\n",
      "source/abitur/2016/en/geraden.rst\n",
      "source/abitur/2016/en/ebenen.rst\n"
     ]
    }
   ],
   "source": [
    "import os\n",
    "for l in a.splitlines():\n",
    "    l = l.strip()\n",
    "    l = l.split(\"<\")\n",
    "    rst =  l[-1][:-1]+'.rst'\n",
    "    \n",
    "    rst_fn = os.path.join('source',rst)\n",
    "    print (rst_fn)\n",
    "    with open( rst_fn, 'r') as source_fp:\n",
    "        lines_list = []\n",
    "        for i,row in enumerate(source_fp):\n",
    "            lines_list.append(row.replace(\"sage:\",\"\",1).replace(\"...  \",\"\",1))\n",
    "    with open(rst_fn,'w') as output_fp:\n",
    "        output_fp.writelines(lines_list)\n",
    "        \n",
    "               "
   ]
  },
  {
   "cell_type": "code",
   "execution_count": 48,
   "metadata": {},
   "outputs": [],
   "source": [
    "with open('/tmp/ble.rst','w') as output_fp:\n",
    "    output_fp.writelines(newlines)"
   ]
  },
  {
   "cell_type": "code",
   "execution_count": 52,
   "metadata": {},
   "outputs": [
    {
     "name": "stdout",
     "output_type": "stream",
     "text": [
      "cat: abitur/2014/en/prisma.rst: No such file or directory\r\n"
     ]
    }
   ],
   "source": [
    "! cat abitur/2014/en/prisma.rst\n"
   ]
  },
  {
   "cell_type": "code",
   "execution_count": null,
   "metadata": {},
   "outputs": [],
   "source": []
  },
  {
   "cell_type": "code",
   "execution_count": null,
   "metadata": {},
   "outputs": [],
   "source": []
  },
  {
   "cell_type": "code",
   "execution_count": null,
   "metadata": {},
   "outputs": [],
   "source": []
  },
  {
   "cell_type": "code",
   "execution_count": null,
   "metadata": {},
   "outputs": [],
   "source": []
  },
  {
   "cell_type": "code",
   "execution_count": null,
   "metadata": {},
   "outputs": [],
   "source": []
  },
  {
   "cell_type": "code",
   "execution_count": null,
   "metadata": {},
   "outputs": [],
   "source": []
  },
  {
   "cell_type": "code",
   "execution_count": null,
   "metadata": {},
   "outputs": [],
   "source": []
  },
  {
   "cell_type": "code",
   "execution_count": null,
   "metadata": {},
   "outputs": [],
   "source": []
  },
  {
   "cell_type": "code",
   "execution_count": null,
   "metadata": {},
   "outputs": [],
   "source": []
  },
  {
   "cell_type": "code",
   "execution_count": null,
   "metadata": {},
   "outputs": [],
   "source": []
  },
  {
   "cell_type": "code",
   "execution_count": null,
   "metadata": {},
   "outputs": [],
   "source": []
  },
  {
   "cell_type": "code",
   "execution_count": null,
   "metadata": {},
   "outputs": [],
   "source": []
  },
  {
   "cell_type": "code",
   "execution_count": null,
   "metadata": {},
   "outputs": [],
   "source": []
  },
  {
   "cell_type": "code",
   "execution_count": null,
   "metadata": {},
   "outputs": [],
   "source": []
  },
  {
   "cell_type": "code",
   "execution_count": null,
   "metadata": {},
   "outputs": [],
   "source": []
  },
  {
   "cell_type": "code",
   "execution_count": null,
   "metadata": {},
   "outputs": [],
   "source": []
  },
  {
   "cell_type": "code",
   "execution_count": null,
   "metadata": {},
   "outputs": [],
   "source": []
  }
 ],
 "metadata": {
  "kernelspec": {
   "display_name": "Python 3",
   "language": "python",
   "name": "python3"
  },
  "language_info": {
   "codemirror_mode": {
    "name": "ipython",
    "version": 3
   },
   "file_extension": ".py",
   "mimetype": "text/x-python",
   "name": "python",
   "nbconvert_exporter": "python",
   "pygments_lexer": "ipython3",
   "version": "3.6.1"
  }
 },
 "nbformat": 4,
 "nbformat_minor": 2
}
